{
 "cells": [
  {
   "cell_type": "code",
   "execution_count": 3,
   "id": "62b770f6-0d6c-4321-8bcd-17ac5ca34859",
   "metadata": {},
   "outputs": [
    {
     "name": "stderr",
     "output_type": "stream",
     "text": [
      "/home/ec2-user/anaconda3/envs/python3/lib/python3.10/site-packages/pydantic/_internal/_fields.py:192: UserWarning: Field name \"json\" in \"MonitoringDatasetFormat\" shadows an attribute in parent \"Base\"\n",
      "  warnings.warn(\n"
     ]
    },
    {
     "data": {
      "text/html": [
       "<pre style=\"white-space:pre;overflow-x:auto;line-height:normal;font-family:Menlo,'DejaVu Sans Mono',consolas,'Courier New',monospace\"><span style=\"color: #7fbfbf; text-decoration-color: #7fbfbf\">[02/01/25 02:01:27] </span><span style=\"color: #0069ff; text-decoration-color: #0069ff; font-weight: bold\">INFO    </span> Found credentials from IAM Role:                                   <a href=\"file:///home/ec2-user/anaconda3/envs/python3/lib/python3.10/site-packages/botocore/credentials.py\" target=\"_blank\"><span style=\"color: #7f7f7f; text-decoration-color: #7f7f7f\">credentials.py</span></a><span style=\"color: #7f7f7f; text-decoration-color: #7f7f7f\">:</span><a href=\"file:///home/ec2-user/anaconda3/envs/python3/lib/python3.10/site-packages/botocore/credentials.py#1075\" target=\"_blank\"><span style=\"color: #7f7f7f; text-decoration-color: #7f7f7f\">1075</span></a>\n",
       "<span style=\"color: #7fbfbf; text-decoration-color: #7fbfbf\">                    </span>         BaseNotebookInstanceEc2InstanceRole                                <span style=\"color: #7f7f7f; text-decoration-color: #7f7f7f\">                   </span>\n",
       "</pre>\n"
      ],
      "text/plain": [
       "\u001b[2;36m[02/01/25 02:01:27]\u001b[0m\u001b[2;36m \u001b[0m\u001b[1;38;2;0;105;255mINFO    \u001b[0m Found credentials from IAM Role:                                   \u001b]8;id=392598;file:///home/ec2-user/anaconda3/envs/python3/lib/python3.10/site-packages/botocore/credentials.py\u001b\\\u001b[2mcredentials.py\u001b[0m\u001b]8;;\u001b\\\u001b[2m:\u001b[0m\u001b]8;id=639983;file:///home/ec2-user/anaconda3/envs/python3/lib/python3.10/site-packages/botocore/credentials.py#1075\u001b\\\u001b[2m1075\u001b[0m\u001b]8;;\u001b\\\n",
       "\u001b[2;36m                    \u001b[0m         BaseNotebookInstanceEc2InstanceRole                                \u001b[2m                   \u001b[0m\n"
      ]
     },
     "metadata": {},
     "output_type": "display_data"
    },
    {
     "name": "stdout",
     "output_type": "stream",
     "text": [
      "sagemaker.config INFO - Not applying SDK defaults from location: /etc/xdg/sagemaker/config.yaml\n",
      "sagemaker.config INFO - Not applying SDK defaults from location: /home/ec2-user/.config/sagemaker/config.yaml\n",
      "Dataset downloaded successfully!\n"
     ]
    }
   ],
   "source": [
    "import boto3\n",
    "import sagemaker\n",
    "from sagemaker import get_execution_role\n",
    "import pandas as pd\n",
    "\n",
    "# Initialize SageMaker session\n",
    "sagemaker_session = sagemaker.Session()\n",
    "\n",
    "# Get the IAM role for SageMaker\n",
    "role = get_execution_role()\n",
    "\n",
    "# Define S3 bucket and file paths\n",
    "bucket_name = 'pawtracker-processed-data'  # Replace with your bucket name\n",
    "file_key = 'processed_dog_health_vitals.csv'  # Replace with your file key\n",
    "local_file_path = 'processed_dog_health_vitals.csv'\n",
    "\n",
    "# Download the processed dataset from S3\n",
    "s3 = boto3.client('s3')\n",
    "s3.download_file(bucket_name, file_key, local_file_path)\n",
    "\n",
    "print(\"Dataset downloaded successfully!\")"
   ]
  },
  {
   "cell_type": "code",
   "execution_count": 4,
   "id": "78cb3c9e-8f4d-4968-8efd-12db49deb9b6",
   "metadata": {},
   "outputs": [
    {
     "name": "stdout",
     "output_type": "stream",
     "text": [
      "<class 'pandas.core.frame.DataFrame'>\n",
      "RangeIndex: 968 entries, 0 to 967\n",
      "Data columns (total 17 columns):\n",
      " #   Column              Non-Null Count  Dtype  \n",
      "---  ------              --------------  -----  \n",
      " 0   _id                 968 non-null    object \n",
      " 1   ecg_path            968 non-null    object \n",
      " 2   duration            968 non-null    float64\n",
      " 3   pet_id              968 non-null    int64  \n",
      " 4   breeds              968 non-null    object \n",
      " 5   weight              968 non-null    float64\n",
      " 6   age                 968 non-null    float64\n",
      " 7   segments_br         968 non-null    object \n",
      " 8   segments_hr         968 non-null    object \n",
      " 9   ecg_pulses          968 non-null    object \n",
      " 10  bad_ecg             968 non-null    object \n",
      " 11  first_br_value      968 non-null    float64\n",
      " 12  first_hr_value      968 non-null    float64\n",
      " 13  ecg_mean            968 non-null    float64\n",
      " 14  ecg_max             968 non-null    float64\n",
      " 15  ecg_min             968 non-null    float64\n",
      " 16  total_bad_duration  968 non-null    float64\n",
      "dtypes: float64(9), int64(1), object(7)\n",
      "memory usage: 128.7+ KB\n",
      "None\n",
      "                        _id                               ecg_path  duration  \\\n",
      "0  622723bebe903091edb2bf0b  ecg_data/622723bebe903091edb2bf0b.wav  0.255967   \n",
      "1  622776fabe903091edb2bf0d  ecg_data/622776fabe903091edb2bf0d.wav  0.256022   \n",
      "2  622799e5ea79f8f9cc02b284  ecg_data/622799e5ea79f8f9cc02b284.wav  0.256003   \n",
      "3  622799e58cb091d84e475072  ecg_data/622799e58cb091d84e475072.wav  0.256049   \n",
      "4  622799eeea79f8f9cc02b285  ecg_data/622799eeea79f8f9cc02b285.wav  0.255967   \n",
      "\n",
      "   pet_id breeds    weight       age  \\\n",
      "0      14  boxer  0.757576  0.411765   \n",
      "1      14  boxer  0.757576  0.411765   \n",
      "2      14  boxer  0.757576  0.411765   \n",
      "3      14  boxer  0.757576  0.411765   \n",
      "4      14  boxer  0.757576  0.411765   \n",
      "\n",
      "                                         segments_br  \\\n",
      "0  [{'deb': 210.0, 'fin': 250.0, 'value': 12.01},...   \n",
      "1       [{'deb': 50.0, 'fin': 90.0, 'value': 13.13}]   \n",
      "2     [{'deb': 100.0, 'fin': 140.0, 'value': 13.99}]   \n",
      "3  [{'deb': 20.0, 'fin': 60.0, 'value': 9.67}, {'...   \n",
      "4        [{'deb': 10.0, 'fin': 50.0, 'value': 14.5}]   \n",
      "\n",
      "                                         segments_hr  \\\n",
      "0  [{'deb': 90.0, 'fin': 110.0, 'value': 56.39}, ...   \n",
      "1  [{'deb': 240.0, 'fin': 260.0, 'value': 52.43},...   \n",
      "2  [{'deb': 250.0, 'fin': 270.0, 'value': 46.81},...   \n",
      "3  [{'deb': 140.0, 'fin': 160.0, 'value': 46.57},...   \n",
      "4  [{'deb': 220.0, 'fin': 240.0, 'value': 49.84},...   \n",
      "\n",
      "                                          ecg_pulses  \\\n",
      "0  [0.93, 1.14, 1.94, 2.95, 3.82, 4.44, 5.02, 6.3...   \n",
      "1  [0.83, 1.84, 2.62, 3.33, 5.25, 6.9, 7.77, 8.43...   \n",
      "2  [1.18, 2.33, 3.75, 5.42, 6.6, 7.76, 8.84, 9.94...   \n",
      "3  [2.36, 3.74, 4.35, 4.92, 6.75, 8.45, 9.05, 10....   \n",
      "4  [0.88, 1.95, 2.85, 3.44, 3.98, 4.52, 5.68, 7.2...   \n",
      "\n",
      "                                             bad_ecg  first_br_value  \\\n",
      "0                      [(2.0, 80.0), (132.0, 158.0)]        0.207392   \n",
      "1  [(28.0, 106.0), (158.0, 210.0), (262.0, 298.14...        0.245722   \n",
      "2                                    [(28.0, 236.0)]        0.275154   \n",
      "3     [(28.0, 54.0), (106.0, 132.0), (184.0, 236.0)]        0.127310   \n",
      "4                                                 []        0.292608   \n",
      "\n",
      "   first_hr_value  ecg_mean  ecg_max  ecg_min  total_bad_duration  \n",
      "0        0.349329  0.240909   298.93     0.93            104.0000  \n",
      "1        0.289573  0.261161   299.41     0.83            166.1462  \n",
      "2        0.204768  0.240364   299.87     1.18            208.0000  \n",
      "3        0.201147  0.279700   298.82     2.36            104.0000  \n",
      "4        0.250490  0.253359   299.48     0.88              0.0000  \n",
      "_id                   0\n",
      "ecg_path              0\n",
      "duration              0\n",
      "pet_id                0\n",
      "breeds                0\n",
      "weight                0\n",
      "age                   0\n",
      "segments_br           0\n",
      "segments_hr           0\n",
      "ecg_pulses            0\n",
      "bad_ecg               0\n",
      "first_br_value        0\n",
      "first_hr_value        0\n",
      "ecg_mean              0\n",
      "ecg_max               0\n",
      "ecg_min               0\n",
      "total_bad_duration    0\n",
      "dtype: int64\n"
     ]
    }
   ],
   "source": [
    "# Load the dataset into a Pandas DataFrame\n",
    "df = pd.read_csv(local_file_path)\n",
    "\n",
    "# Display basic information about the dataset\n",
    "print(df.info())\n",
    "\n",
    "# Display the first few rows of the dataset\n",
    "print(df.head())\n",
    "\n",
    "# Check for missing values\n",
    "print(df.isnull().sum())"
   ]
  },
  {
   "cell_type": "code",
   "execution_count": 5,
   "id": "a4552440-e06d-41a5-b014-69389ea11986",
   "metadata": {},
   "outputs": [
    {
     "name": "stdout",
     "output_type": "stream",
     "text": [
      "Training set size: (774, 16)\n",
      "Test set size: (194, 16)\n"
     ]
    }
   ],
   "source": [
    "# Features (X) and target variable (y)\n",
    "X = df.drop(columns=['first_hr_value'])  # Replace 'first_hr_value' with your target column\n",
    "y = df['first_hr_value']\n",
    "\n",
    "# Split into training and test sets (80% train, 20% test)\n",
    "from sklearn.model_selection import train_test_split\n",
    "\n",
    "X_train, X_test, y_train, y_test = train_test_split(X, y, test_size=0.2, random_state=42)\n",
    "\n",
    "print(f\"Training set size: {X_train.shape}\")\n",
    "print(f\"Test set size: {X_test.shape}\")"
   ]
  },
  {
   "cell_type": "code",
   "execution_count": 6,
   "id": "1fbab610-35da-40ee-bcbe-52a1ffd05b5c",
   "metadata": {},
   "outputs": [
    {
     "name": "stdout",
     "output_type": "stream",
     "text": [
      "Training and test data uploaded to S3.\n"
     ]
    }
   ],
   "source": [
    "# Save training and test sets locally\n",
    "train_file_path = 'train.csv'\n",
    "test_file_path = 'test.csv'\n",
    "\n",
    "pd.concat([X_train, y_train], axis=1).to_csv(train_file_path, index=False)\n",
    "pd.concat([X_test, y_test], axis=1).to_csv(test_file_path, index=False)\n",
    "\n",
    "# Upload to S3\n",
    "train_s3_path = f\"s3://{bucket_name}/train/train.csv\"\n",
    "test_s3_path = f\"s3://{bucket_name}/test/test.csv\"\n",
    "\n",
    "s3.upload_file(train_file_path, bucket_name, 'train/train.csv')\n",
    "s3.upload_file(test_file_path, bucket_name, 'test/test.csv')\n",
    "\n",
    "print(\"Training and test data uploaded to S3.\")"
   ]
  },
  {
   "cell_type": "code",
   "execution_count": 7,
   "id": "4031e39d-fde6-4197-862c-7bfe9a48baf3",
   "metadata": {},
   "outputs": [
    {
     "data": {
      "text/html": [
       "<pre style=\"white-space:pre;overflow-x:auto;line-height:normal;font-family:Menlo,'DejaVu Sans Mono',consolas,'Courier New',monospace\"><span style=\"color: #7fbfbf; text-decoration-color: #7fbfbf\">[02/01/25 02:02:16] </span><span style=\"color: #0069ff; text-decoration-color: #0069ff; font-weight: bold\">INFO    </span> Ignoring unnecessary instance type: <span style=\"color: #e100e1; text-decoration-color: #e100e1; font-style: italic\">None</span>.                            <a href=\"file:///home/ec2-user/anaconda3/envs/python3/lib/python3.10/site-packages/sagemaker/image_uris.py\" target=\"_blank\"><span style=\"color: #7f7f7f; text-decoration-color: #7f7f7f\">image_uris.py</span></a><span style=\"color: #7f7f7f; text-decoration-color: #7f7f7f\">:</span><a href=\"file:///home/ec2-user/anaconda3/envs/python3/lib/python3.10/site-packages/sagemaker/image_uris.py#528\" target=\"_blank\"><span style=\"color: #7f7f7f; text-decoration-color: #7f7f7f\">528</span></a>\n",
       "</pre>\n"
      ],
      "text/plain": [
       "\u001b[2;36m[02/01/25 02:02:16]\u001b[0m\u001b[2;36m \u001b[0m\u001b[1;38;2;0;105;255mINFO    \u001b[0m Ignoring unnecessary instance type: \u001b[3;38;2;225;0;225mNone\u001b[0m.                            \u001b]8;id=670144;file:///home/ec2-user/anaconda3/envs/python3/lib/python3.10/site-packages/sagemaker/image_uris.py\u001b\\\u001b[2mimage_uris.py\u001b[0m\u001b]8;;\u001b\\\u001b[2m:\u001b[0m\u001b]8;id=827347;file:///home/ec2-user/anaconda3/envs/python3/lib/python3.10/site-packages/sagemaker/image_uris.py#528\u001b\\\u001b[2m528\u001b[0m\u001b]8;;\u001b\\\n"
      ]
     },
     "metadata": {},
     "output_type": "display_data"
    }
   ],
   "source": [
    "from sagemaker.inputs import TrainingInput\n",
    "from sagemaker.estimator import Estimator\n",
    "\n",
    "# Define the container for the XGBoost algorithm\n",
    "container = sagemaker.image_uris.retrieve(\"xgboost\", sagemaker_session.boto_region_name, \"1.7-1\")\n",
    "\n",
    "# Define the estimator\n",
    "xgb_estimator = Estimator(\n",
    "    image_uri=container,\n",
    "    role=role,\n",
    "    instance_count=1,\n",
    "    instance_type=\"ml.m5.xlarge\",\n",
    "    output_path=f\"s3://{bucket_name}/output\",  # Where SageMaker saves the trained model\n",
    "    sagemaker_session=sagemaker_session\n",
    ")\n",
    "\n",
    "# Set hyperparameters\n",
    "xgb_estimator.set_hyperparameters(\n",
    "    objective=\"reg:squarederror\",  # Regression task\n",
    "    num_round=100,\n",
    "    max_depth=5,\n",
    "    eta=0.2,\n",
    "    gamma=4,\n",
    "    min_child_weight=6,\n",
    "    subsample=0.8,\n",
    "    verbosity=1\n",
    ")"
   ]
  },
  {
   "cell_type": "code",
   "execution_count": 8,
   "id": "29429304-9a83-4b82-8a92-124b84c25b7e",
   "metadata": {},
   "outputs": [
    {
     "name": "stdout",
     "output_type": "stream",
     "text": [
      "The bucket 'pawtracker-processed-data' is located in the region: us-east-1\n"
     ]
    }
   ],
   "source": [
    "import boto3\n",
    "\n",
    "# Initialize the S3 client\n",
    "s3 = boto3.client('s3')\n",
    "\n",
    "# Specify the bucket name\n",
    "bucket_name = 'pawtracker-processed-data'\n",
    "\n",
    "try:\n",
    "    # Get the bucket's region\n",
    "    response = s3.get_bucket_location(Bucket=bucket_name)\n",
    "    bucket_region = response['LocationConstraint']\n",
    "\n",
    "    # If the region is None, it means the bucket is in the default region (us-east-1)\n",
    "    if bucket_region is None:\n",
    "        bucket_region = 'us-east-1'\n",
    "\n",
    "    print(f\"The bucket '{bucket_name}' is located in the region: {bucket_region}\")\n",
    "except Exception as e:\n",
    "    print(f\"Error retrieving bucket location: {e}\")"
   ]
  },
  {
   "cell_type": "code",
   "execution_count": 9,
   "id": "3dc55d92-9b5e-4f92-b2d9-8283dda22add",
   "metadata": {},
   "outputs": [
    {
     "data": {
      "text/html": [
       "<pre style=\"white-space:pre;overflow-x:auto;line-height:normal;font-family:Menlo,'DejaVu Sans Mono',consolas,'Courier New',monospace\"><span style=\"color: #7fbfbf; text-decoration-color: #7fbfbf\">[02/01/25 02:02:19] </span><span style=\"color: #0069ff; text-decoration-color: #0069ff; font-weight: bold\">INFO    </span> SageMaker Python SDK will collect telemetry to help us better  <a href=\"file:///home/ec2-user/anaconda3/envs/python3/lib/python3.10/site-packages/sagemaker/telemetry/telemetry_logging.py\" target=\"_blank\"><span style=\"color: #7f7f7f; text-decoration-color: #7f7f7f\">telemetry_logging.py</span></a><span style=\"color: #7f7f7f; text-decoration-color: #7f7f7f\">:</span><a href=\"file:///home/ec2-user/anaconda3/envs/python3/lib/python3.10/site-packages/sagemaker/telemetry/telemetry_logging.py#90\" target=\"_blank\"><span style=\"color: #7f7f7f; text-decoration-color: #7f7f7f\">90</span></a>\n",
       "<span style=\"color: #7fbfbf; text-decoration-color: #7fbfbf\">                    </span>         understand our user's needs, diagnose issues, and deliver      <span style=\"color: #7f7f7f; text-decoration-color: #7f7f7f\">                       </span>\n",
       "<span style=\"color: #7fbfbf; text-decoration-color: #7fbfbf\">                    </span>         additional features.                                           <span style=\"color: #7f7f7f; text-decoration-color: #7f7f7f\">                       </span>\n",
       "<span style=\"color: #7fbfbf; text-decoration-color: #7fbfbf\">                    </span>         To opt out of telemetry, please disable via TelemetryOptOut    <span style=\"color: #7f7f7f; text-decoration-color: #7f7f7f\">                       </span>\n",
       "<span style=\"color: #7fbfbf; text-decoration-color: #7fbfbf\">                    </span>         parameter in SDK defaults config. For more information, refer  <span style=\"color: #7f7f7f; text-decoration-color: #7f7f7f\">                       </span>\n",
       "<span style=\"color: #7fbfbf; text-decoration-color: #7fbfbf\">                    </span>         to                                                             <span style=\"color: #7f7f7f; text-decoration-color: #7f7f7f\">                       </span>\n",
       "<span style=\"color: #7fbfbf; text-decoration-color: #7fbfbf\">                    </span>         <span style=\"color: #0069ff; text-decoration-color: #0069ff; text-decoration: underline\">https://sagemaker.readthedocs.io/en/stable/overview.html#confi</span> <span style=\"color: #7f7f7f; text-decoration-color: #7f7f7f\">                       </span>\n",
       "<span style=\"color: #7fbfbf; text-decoration-color: #7fbfbf\">                    </span>         <span style=\"color: #0069ff; text-decoration-color: #0069ff; text-decoration: underline\">guring-and-using-defaults-with-the-sagemaker-python-sdk.</span>       <span style=\"color: #7f7f7f; text-decoration-color: #7f7f7f\">                       </span>\n",
       "</pre>\n"
      ],
      "text/plain": [
       "\u001b[2;36m[02/01/25 02:02:19]\u001b[0m\u001b[2;36m \u001b[0m\u001b[1;38;2;0;105;255mINFO    \u001b[0m SageMaker Python SDK will collect telemetry to help us better  \u001b]8;id=960194;file:///home/ec2-user/anaconda3/envs/python3/lib/python3.10/site-packages/sagemaker/telemetry/telemetry_logging.py\u001b\\\u001b[2mtelemetry_logging.py\u001b[0m\u001b]8;;\u001b\\\u001b[2m:\u001b[0m\u001b]8;id=549256;file:///home/ec2-user/anaconda3/envs/python3/lib/python3.10/site-packages/sagemaker/telemetry/telemetry_logging.py#90\u001b\\\u001b[2m90\u001b[0m\u001b]8;;\u001b\\\n",
       "\u001b[2;36m                    \u001b[0m         understand our user's needs, diagnose issues, and deliver      \u001b[2m                       \u001b[0m\n",
       "\u001b[2;36m                    \u001b[0m         additional features.                                           \u001b[2m                       \u001b[0m\n",
       "\u001b[2;36m                    \u001b[0m         To opt out of telemetry, please disable via TelemetryOptOut    \u001b[2m                       \u001b[0m\n",
       "\u001b[2;36m                    \u001b[0m         parameter in SDK defaults config. For more information, refer  \u001b[2m                       \u001b[0m\n",
       "\u001b[2;36m                    \u001b[0m         to                                                             \u001b[2m                       \u001b[0m\n",
       "\u001b[2;36m                    \u001b[0m         \u001b[4;38;2;0;105;255mhttps://sagemaker.readthedocs.io/en/stable/overview.html#confi\u001b[0m \u001b[2m                       \u001b[0m\n",
       "\u001b[2;36m                    \u001b[0m         \u001b[4;38;2;0;105;255mguring-and-using-defaults-with-the-sagemaker-python-sdk.\u001b[0m       \u001b[2m                       \u001b[0m\n"
      ]
     },
     "metadata": {},
     "output_type": "display_data"
    },
    {
     "data": {
      "text/html": [
       "<pre style=\"white-space:pre;overflow-x:auto;line-height:normal;font-family:Menlo,'DejaVu Sans Mono',consolas,'Courier New',monospace\"><span style=\"color: #7fbfbf; text-decoration-color: #7fbfbf\">                    </span><span style=\"color: #0069ff; text-decoration-color: #0069ff; font-weight: bold\">INFO    </span> Creating training-job with name:                                       <a href=\"file:///home/ec2-user/anaconda3/envs/python3/lib/python3.10/site-packages/sagemaker/session.py\" target=\"_blank\"><span style=\"color: #7f7f7f; text-decoration-color: #7f7f7f\">session.py</span></a><span style=\"color: #7f7f7f; text-decoration-color: #7f7f7f\">:</span><a href=\"file:///home/ec2-user/anaconda3/envs/python3/lib/python3.10/site-packages/sagemaker/session.py#1042\" target=\"_blank\"><span style=\"color: #7f7f7f; text-decoration-color: #7f7f7f\">1042</span></a>\n",
       "<span style=\"color: #7fbfbf; text-decoration-color: #7fbfbf\">                    </span>         sagemaker-xgboost-<span style=\"color: #008080; text-decoration-color: #008080; font-weight: bold\">2025</span>-02-01-02-02-19-654                              <span style=\"color: #7f7f7f; text-decoration-color: #7f7f7f\">               </span>\n",
       "</pre>\n"
      ],
      "text/plain": [
       "\u001b[2;36m                   \u001b[0m\u001b[2;36m \u001b[0m\u001b[1;38;2;0;105;255mINFO    \u001b[0m Creating training-job with name:                                       \u001b]8;id=194197;file:///home/ec2-user/anaconda3/envs/python3/lib/python3.10/site-packages/sagemaker/session.py\u001b\\\u001b[2msession.py\u001b[0m\u001b]8;;\u001b\\\u001b[2m:\u001b[0m\u001b]8;id=635620;file:///home/ec2-user/anaconda3/envs/python3/lib/python3.10/site-packages/sagemaker/session.py#1042\u001b\\\u001b[2m1042\u001b[0m\u001b]8;;\u001b\\\n",
       "\u001b[2;36m                    \u001b[0m         sagemaker-xgboost-\u001b[1;36m2025\u001b[0m-02-01-02-02-19-654                              \u001b[2m               \u001b[0m\n"
      ]
     },
     "metadata": {},
     "output_type": "display_data"
    },
    {
     "name": "stdout",
     "output_type": "stream",
     "text": [
      "2025-02-01 02:02:22 Starting - Starting the training job...\n",
      "..25-02-01 02:02:37 Starting - Preparing the instances for training.\n",
      "..25-02-01 02:03:24 Downloading - Downloading input data.\n",
      "....\u001b[34m[2025-02-01 02:04:40.531 ip-10-0-204-218.ec2.internal:7 INFO utils.py:28] RULE_JOB_STOP_SIGNAL_FILENAME: None\u001b[0m\n",
      "\u001b[34m[2025-02-01 02:04:40.555 ip-10-0-204-218.ec2.internal:7 INFO profiler_config_parser.py:111] User has disabled profiler.\u001b[0m\n",
      "\u001b[34m[2025-02-01:02:04:40:INFO] Imported framework sagemaker_xgboost_container.training\u001b[0m\n",
      "\u001b[34m[2025-02-01:02:04:40:INFO] Failed to parse hyperparameter objective value reg:squarederror to Json.\u001b[0m\n",
      "\u001b[34mReturning the value itself\u001b[0m\n",
      "\u001b[34m[2025-02-01:02:04:40:INFO] No GPUs detected (normal if no gpus installed)\u001b[0m\n",
      "\u001b[34m[2025-02-01:02:04:40:INFO] Running XGBoost Sagemaker in algorithm mode\u001b[0m\n",
      "\u001b[34m[2025-02-01:02:04:40:INFO] Determined 0 GPU(s) available on the instance.\u001b[0m\n",
      "\u001b[34m[2025-02-01:02:04:40:INFO] Determined delimiter of CSV input is ','\u001b[0m\n",
      "\u001b[34m[2025-02-01:02:04:40:INFO] Determined delimiter of CSV input is ','\u001b[0m\n",
      "\u001b[34m[2025-02-01:02:04:40:INFO] File path /opt/ml/input/data/train of input files\u001b[0m\n",
      "\u001b[34m[2025-02-01:02:04:40:INFO] Making smlinks from folder /opt/ml/input/data/train to folder /tmp/sagemaker_xgboost_input_data\u001b[0m\n",
      "\u001b[34m[2025-02-01:02:04:40:INFO] creating symlink between Path /opt/ml/input/data/train/train.csv and destination /tmp/sagemaker_xgboost_input_data/train.csv5525309961010186671\u001b[0m\n",
      "\u001b[34m[2025-02-01:02:04:40:INFO] files path: /tmp/sagemaker_xgboost_input_data\u001b[0m\n",
      "\u001b[34m[2025-02-01:02:04:40:INFO] Determined delimiter of CSV input is ','\u001b[0m\n",
      "\u001b[34m[2025-02-01:02:04:40:INFO] File path /opt/ml/input/data/validation of input files\u001b[0m\n",
      "\u001b[34m[2025-02-01:02:04:40:INFO] Making smlinks from folder /opt/ml/input/data/validation to folder /tmp/sagemaker_xgboost_input_data\u001b[0m\n",
      "\u001b[34m[2025-02-01:02:04:40:INFO] creating symlink between Path /opt/ml/input/data/validation/test.csv and destination /tmp/sagemaker_xgboost_input_data/test.csv3797864815644183037\u001b[0m\n",
      "\u001b[34m[2025-02-01:02:04:40:INFO] files path: /tmp/sagemaker_xgboost_input_data\u001b[0m\n",
      "\u001b[34m[2025-02-01:02:04:40:INFO] Determined delimiter of CSV input is ','\u001b[0m\n",
      "\u001b[34m[2025-02-01:02:04:41:INFO] Single node training.\u001b[0m\n",
      "\u001b[34m[2025-02-01:02:04:41:INFO] Train matrix has 775 rows and 1409 columns\u001b[0m\n",
      "\u001b[34m[2025-02-01:02:04:41:INFO] Validation matrix has 195 rows\u001b[0m\n",
      "\u001b[34m[2025-02-01 02:04:41.011 ip-10-0-204-218.ec2.internal:7 INFO json_config.py:92] Creating hook from json_config at /opt/ml/input/config/debughookconfig.json.\u001b[0m\n",
      "\u001b[34m[2025-02-01 02:04:41.012 ip-10-0-204-218.ec2.internal:7 INFO hook.py:206] tensorboard_dir has not been set for the hook. SMDebug will not be exporting tensorboard summaries.\u001b[0m\n",
      "\u001b[34m[2025-02-01 02:04:41.012 ip-10-0-204-218.ec2.internal:7 INFO hook.py:259] Saving to /opt/ml/output/tensors\u001b[0m\n",
      "\u001b[34m[2025-02-01 02:04:41.012 ip-10-0-204-218.ec2.internal:7 INFO state_store.py:77] The checkpoint config file /opt/ml/input/config/checkpointconfig.json does not exist.\u001b[0m\n",
      "\u001b[34m[2025-02-01:02:04:41:INFO] Debug hook created from config\u001b[0m\n",
      "\u001b[34m[2025-02-01 02:04:41.040 ip-10-0-204-218.ec2.internal:7 INFO hook.py:427] Monitoring the collections: metrics\u001b[0m\n",
      "\u001b[34m[2025-02-01 02:04:41.043 ip-10-0-204-218.ec2.internal:7 INFO hook.py:491] Hook is writing from the hook with pid: 7\u001b[0m\n",
      "\u001b[34m[0]#011train-rmse:nan#011validation-rmse:nan\u001b[0m\n",
      "\u001b[34m[1]#011train-rmse:nan#011validation-rmse:nan\u001b[0m\n",
      "\u001b[34m[2]#011train-rmse:nan#011validation-rmse:nan\u001b[0m\n",
      "\u001b[34m[3]#011train-rmse:nan#011validation-rmse:nan\u001b[0m\n",
      "\u001b[34m[4]#011train-rmse:nan#011validation-rmse:nan\u001b[0m\n",
      "\u001b[34m[5]#011train-rmse:nan#011validation-rmse:nan\u001b[0m\n",
      "\u001b[34m[6]#011train-rmse:nan#011validation-rmse:nan\u001b[0m\n",
      "\u001b[34m[7]#011train-rmse:nan#011validation-rmse:nan\u001b[0m\n",
      "\u001b[34m[8]#011train-rmse:nan#011validation-rmse:nan\u001b[0m\n",
      "\u001b[34m[9]#011train-rmse:nan#011validation-rmse:nan\u001b[0m\n",
      "\u001b[34m[10]#011train-rmse:nan#011validation-rmse:nan\u001b[0m\n",
      "\u001b[34m[11]#011train-rmse:nan#011validation-rmse:nan\u001b[0m\n",
      "\u001b[34m[12]#011train-rmse:nan#011validation-rmse:nan\u001b[0m\n",
      "\u001b[34m[13]#011train-rmse:nan#011validation-rmse:nan\u001b[0m\n",
      "\u001b[34m[14]#011train-rmse:nan#011validation-rmse:nan\u001b[0m\n",
      "\u001b[34m[15]#011train-rmse:nan#011validation-rmse:nan\u001b[0m\n",
      "\u001b[34m[16]#011train-rmse:nan#011validation-rmse:nan\u001b[0m\n",
      "\u001b[34m[17]#011train-rmse:nan#011validation-rmse:nan\u001b[0m\n",
      "\u001b[34m[18]#011train-rmse:nan#011validation-rmse:nan\u001b[0m\n",
      "\u001b[34m[19]#011train-rmse:nan#011validation-rmse:nan\u001b[0m\n",
      "\u001b[34m[20]#011train-rmse:nan#011validation-rmse:nan\u001b[0m\n",
      "\u001b[34m[21]#011train-rmse:nan#011validation-rmse:nan\u001b[0m\n",
      "\u001b[34m[22]#011train-rmse:nan#011validation-rmse:nan\u001b[0m\n",
      "\u001b[34m[23]#011train-rmse:nan#011validation-rmse:nan\u001b[0m\n",
      "\u001b[34m[24]#011train-rmse:nan#011validation-rmse:nan\u001b[0m\n",
      "\u001b[34m[25]#011train-rmse:nan#011validation-rmse:nan\u001b[0m\n",
      "\u001b[34m[26]#011train-rmse:nan#011validation-rmse:nan\u001b[0m\n",
      "\u001b[34m[27]#011train-rmse:nan#011validation-rmse:nan\u001b[0m\n",
      "\u001b[34m[28]#011train-rmse:nan#011validation-rmse:nan\u001b[0m\n",
      "\u001b[34m[29]#011train-rmse:nan#011validation-rmse:nan\u001b[0m\n",
      "\u001b[34m[30]#011train-rmse:nan#011validation-rmse:nan\u001b[0m\n",
      "\u001b[34m[31]#011train-rmse:nan#011validation-rmse:nan\u001b[0m\n",
      "\u001b[34m[32]#011train-rmse:nan#011validation-rmse:nan\u001b[0m\n",
      "\u001b[34m[33]#011train-rmse:nan#011validation-rmse:nan\u001b[0m\n",
      "\u001b[34m[34]#011train-rmse:nan#011validation-rmse:nan\u001b[0m\n",
      "\u001b[34m[35]#011train-rmse:nan#011validation-rmse:nan\u001b[0m\n",
      "\u001b[34m[36]#011train-rmse:nan#011validation-rmse:nan\u001b[0m\n",
      "\u001b[34m[37]#011train-rmse:nan#011validation-rmse:nan\u001b[0m\n",
      "\u001b[34m[38]#011train-rmse:nan#011validation-rmse:nan\u001b[0m\n",
      "\u001b[34m[39]#011train-rmse:nan#011validation-rmse:nan\u001b[0m\n",
      "\u001b[34m[40]#011train-rmse:nan#011validation-rmse:nan\u001b[0m\n",
      "\u001b[34m[41]#011train-rmse:nan#011validation-rmse:nan\u001b[0m\n",
      "\u001b[34m[42]#011train-rmse:nan#011validation-rmse:nan\u001b[0m\n",
      "\u001b[34m[43]#011train-rmse:nan#011validation-rmse:nan\u001b[0m\n",
      "\u001b[34m[44]#011train-rmse:nan#011validation-rmse:nan\u001b[0m\n",
      "\u001b[34m[45]#011train-rmse:nan#011validation-rmse:nan\u001b[0m\n",
      "\u001b[34m[46]#011train-rmse:nan#011validation-rmse:nan\u001b[0m\n",
      "\u001b[34m[47]#011train-rmse:nan#011validation-rmse:nan\u001b[0m\n",
      "\u001b[34m[48]#011train-rmse:nan#011validation-rmse:nan\u001b[0m\n",
      "\u001b[34m[49]#011train-rmse:nan#011validation-rmse:nan\u001b[0m\n",
      "\u001b[34m[50]#011train-rmse:nan#011validation-rmse:nan\u001b[0m\n",
      "\u001b[34m[51]#011train-rmse:nan#011validation-rmse:nan\u001b[0m\n",
      "\u001b[34m[52]#011train-rmse:nan#011validation-rmse:nan\u001b[0m\n",
      "\u001b[34m[53]#011train-rmse:nan#011validation-rmse:nan\u001b[0m\n",
      "\u001b[34m[54]#011train-rmse:nan#011validation-rmse:nan\u001b[0m\n",
      "\u001b[34m[55]#011train-rmse:nan#011validation-rmse:nan\u001b[0m\n",
      "\u001b[34m[56]#011train-rmse:nan#011validation-rmse:nan\u001b[0m\n",
      "\u001b[34m[57]#011train-rmse:nan#011validation-rmse:nan\u001b[0m\n",
      "\u001b[34m[58]#011train-rmse:nan#011validation-rmse:nan\u001b[0m\n",
      "\u001b[34m[59]#011train-rmse:nan#011validation-rmse:nan\u001b[0m\n",
      "\u001b[34m[60]#011train-rmse:nan#011validation-rmse:nan\u001b[0m\n",
      "\u001b[34m[61]#011train-rmse:nan#011validation-rmse:nan\u001b[0m\n",
      "\u001b[34m[62]#011train-rmse:nan#011validation-rmse:nan\u001b[0m\n",
      "\u001b[34m[63]#011train-rmse:nan#011validation-rmse:nan\u001b[0m\n",
      "\u001b[34m[64]#011train-rmse:nan#011validation-rmse:nan\u001b[0m\n",
      "\u001b[34m[65]#011train-rmse:nan#011validation-rmse:nan\u001b[0m\n",
      "\u001b[34m[66]#011train-rmse:nan#011validation-rmse:nan\u001b[0m\n",
      "\u001b[34m[67]#011train-rmse:nan#011validation-rmse:nan\u001b[0m\n",
      "\u001b[34m[68]#011train-rmse:nan#011validation-rmse:nan\u001b[0m\n",
      "\u001b[34m[69]#011train-rmse:nan#011validation-rmse:nan\u001b[0m\n",
      "\u001b[34m[70]#011train-rmse:nan#011validation-rmse:nan\u001b[0m\n",
      "\u001b[34m[71]#011train-rmse:nan#011validation-rmse:nan\u001b[0m\n",
      "\u001b[34m[72]#011train-rmse:nan#011validation-rmse:nan\u001b[0m\n",
      "\u001b[34m[73]#011train-rmse:nan#011validation-rmse:nan\u001b[0m\n",
      "\u001b[34m[74]#011train-rmse:nan#011validation-rmse:nan\u001b[0m\n",
      "\u001b[34m[75]#011train-rmse:nan#011validation-rmse:nan\u001b[0m\n",
      "\u001b[34m[76]#011train-rmse:nan#011validation-rmse:nan\u001b[0m\n",
      "\u001b[34m[77]#011train-rmse:nan#011validation-rmse:nan\u001b[0m\n",
      "\u001b[34m[78]#011train-rmse:nan#011validation-rmse:nan\u001b[0m\n",
      "\u001b[34m[79]#011train-rmse:nan#011validation-rmse:nan\u001b[0m\n",
      "\u001b[34m[80]#011train-rmse:nan#011validation-rmse:nan\u001b[0m\n",
      "\u001b[34m[81]#011train-rmse:nan#011validation-rmse:nan\u001b[0m\n",
      "\u001b[34m[82]#011train-rmse:nan#011validation-rmse:nan\u001b[0m\n",
      "\u001b[34m[83]#011train-rmse:nan#011validation-rmse:nan\u001b[0m\n",
      "\u001b[34m[84]#011train-rmse:nan#011validation-rmse:nan\u001b[0m\n",
      "\u001b[34m[85]#011train-rmse:nan#011validation-rmse:nan\u001b[0m\n",
      "\u001b[34m[86]#011train-rmse:nan#011validation-rmse:nan\u001b[0m\n",
      "\u001b[34m[87]#011train-rmse:nan#011validation-rmse:nan\u001b[0m\n",
      "\u001b[34m[88]#011train-rmse:nan#011validation-rmse:nan\u001b[0m\n",
      "\u001b[34m[89]#011train-rmse:nan#011validation-rmse:nan\u001b[0m\n",
      "\u001b[34m[90]#011train-rmse:nan#011validation-rmse:nan\u001b[0m\n",
      "\u001b[34m[91]#011train-rmse:nan#011validation-rmse:nan\u001b[0m\n",
      "\u001b[34m[92]#011train-rmse:nan#011validation-rmse:nan\u001b[0m\n",
      "\u001b[34m[93]#011train-rmse:nan#011validation-rmse:nan\u001b[0m\n",
      "\u001b[34m[94]#011train-rmse:nan#011validation-rmse:nan\u001b[0m\n",
      "\u001b[34m[95]#011train-rmse:nan#011validation-rmse:nan\u001b[0m\n",
      "\u001b[34m[96]#011train-rmse:nan#011validation-rmse:nan\u001b[0m\n",
      "\u001b[34m[97]#011train-rmse:nan#011validation-rmse:nan\u001b[0m\n",
      "\u001b[34m[98]#011train-rmse:nan#011validation-rmse:nan\u001b[0m\n",
      "\u001b[34m[99]#011train-rmse:nan#011validation-rmse:nan\u001b[0m\n",
      "\n",
      "2025-02-01 02:04:59 Training - Training image download completed. Training in progress.\n",
      "2025-02-01 02:04:59 Uploading - Uploading generated training model\n",
      "2025-02-01 02:04:59 Completed - Training job completed\n",
      "Training seconds: 94\n",
      "Billable seconds: 94\n"
     ]
    }
   ],
   "source": [
    "# Define S3 inputs for training\n",
    "train_input = TrainingInput(train_s3_path, content_type=\"csv\")\n",
    "test_input = TrainingInput(test_s3_path, content_type=\"csv\")\n",
    "\n",
    "# Train the model\n",
    "xgb_estimator.fit({\"train\": train_input, \"validation\": test_input})"
   ]
  },
  {
   "cell_type": "code",
   "execution_count": 10,
   "id": "b228ff7f-7f84-406b-8ad4-47c6d3a9b96e",
   "metadata": {},
   "outputs": [
    {
     "data": {
      "text/html": [
       "<pre style=\"white-space:pre;overflow-x:auto;line-height:normal;font-family:Menlo,'DejaVu Sans Mono',consolas,'Courier New',monospace\"><span style=\"color: #7fbfbf; text-decoration-color: #7fbfbf\">[02/01/25 02:05:57] </span><span style=\"color: #0069ff; text-decoration-color: #0069ff; font-weight: bold\">INFO    </span> Creating model with name: sagemaker-xgboost-<span style=\"color: #008080; text-decoration-color: #008080; font-weight: bold\">2025</span>-02-01-02-05-57-133    <a href=\"file:///home/ec2-user/anaconda3/envs/python3/lib/python3.10/site-packages/sagemaker/session.py\" target=\"_blank\"><span style=\"color: #7f7f7f; text-decoration-color: #7f7f7f\">session.py</span></a><span style=\"color: #7f7f7f; text-decoration-color: #7f7f7f\">:</span><a href=\"file:///home/ec2-user/anaconda3/envs/python3/lib/python3.10/site-packages/sagemaker/session.py#4094\" target=\"_blank\"><span style=\"color: #7f7f7f; text-decoration-color: #7f7f7f\">4094</span></a>\n",
       "</pre>\n"
      ],
      "text/plain": [
       "\u001b[2;36m[02/01/25 02:05:57]\u001b[0m\u001b[2;36m \u001b[0m\u001b[1;38;2;0;105;255mINFO    \u001b[0m Creating model with name: sagemaker-xgboost-\u001b[1;36m2025\u001b[0m-02-01-02-05-57-133    \u001b]8;id=764697;file:///home/ec2-user/anaconda3/envs/python3/lib/python3.10/site-packages/sagemaker/session.py\u001b\\\u001b[2msession.py\u001b[0m\u001b]8;;\u001b\\\u001b[2m:\u001b[0m\u001b]8;id=66481;file:///home/ec2-user/anaconda3/envs/python3/lib/python3.10/site-packages/sagemaker/session.py#4094\u001b\\\u001b[2m4094\u001b[0m\u001b]8;;\u001b\\\n"
      ]
     },
     "metadata": {},
     "output_type": "display_data"
    },
    {
     "data": {
      "text/html": [
       "<pre style=\"white-space:pre;overflow-x:auto;line-height:normal;font-family:Menlo,'DejaVu Sans Mono',consolas,'Courier New',monospace\"><span style=\"color: #7fbfbf; text-decoration-color: #7fbfbf\">                    </span><span style=\"color: #0069ff; text-decoration-color: #0069ff; font-weight: bold\">INFO    </span> Creating endpoint-config with name                                     <a href=\"file:///home/ec2-user/anaconda3/envs/python3/lib/python3.10/site-packages/sagemaker/session.py\" target=\"_blank\"><span style=\"color: #7f7f7f; text-decoration-color: #7f7f7f\">session.py</span></a><span style=\"color: #7f7f7f; text-decoration-color: #7f7f7f\">:</span><a href=\"file:///home/ec2-user/anaconda3/envs/python3/lib/python3.10/site-packages/sagemaker/session.py#5889\" target=\"_blank\"><span style=\"color: #7f7f7f; text-decoration-color: #7f7f7f\">5889</span></a>\n",
       "<span style=\"color: #7fbfbf; text-decoration-color: #7fbfbf\">                    </span>         sagemaker-xgboost-<span style=\"color: #008080; text-decoration-color: #008080; font-weight: bold\">2025</span>-02-01-02-05-57-133                              <span style=\"color: #7f7f7f; text-decoration-color: #7f7f7f\">               </span>\n",
       "</pre>\n"
      ],
      "text/plain": [
       "\u001b[2;36m                   \u001b[0m\u001b[2;36m \u001b[0m\u001b[1;38;2;0;105;255mINFO    \u001b[0m Creating endpoint-config with name                                     \u001b]8;id=780347;file:///home/ec2-user/anaconda3/envs/python3/lib/python3.10/site-packages/sagemaker/session.py\u001b\\\u001b[2msession.py\u001b[0m\u001b]8;;\u001b\\\u001b[2m:\u001b[0m\u001b]8;id=979742;file:///home/ec2-user/anaconda3/envs/python3/lib/python3.10/site-packages/sagemaker/session.py#5889\u001b\\\u001b[2m5889\u001b[0m\u001b]8;;\u001b\\\n",
       "\u001b[2;36m                    \u001b[0m         sagemaker-xgboost-\u001b[1;36m2025\u001b[0m-02-01-02-05-57-133                              \u001b[2m               \u001b[0m\n"
      ]
     },
     "metadata": {},
     "output_type": "display_data"
    },
    {
     "data": {
      "text/html": [
       "<pre style=\"white-space:pre;overflow-x:auto;line-height:normal;font-family:Menlo,'DejaVu Sans Mono',consolas,'Courier New',monospace\"><span style=\"color: #7fbfbf; text-decoration-color: #7fbfbf\">[02/01/25 02:05:58] </span><span style=\"color: #0069ff; text-decoration-color: #0069ff; font-weight: bold\">INFO    </span> Creating endpoint with name sagemaker-xgboost-<span style=\"color: #008080; text-decoration-color: #008080; font-weight: bold\">2025</span>-02-01-02-05-57-133  <a href=\"file:///home/ec2-user/anaconda3/envs/python3/lib/python3.10/site-packages/sagemaker/session.py\" target=\"_blank\"><span style=\"color: #7f7f7f; text-decoration-color: #7f7f7f\">session.py</span></a><span style=\"color: #7f7f7f; text-decoration-color: #7f7f7f\">:</span><a href=\"file:///home/ec2-user/anaconda3/envs/python3/lib/python3.10/site-packages/sagemaker/session.py#4711\" target=\"_blank\"><span style=\"color: #7f7f7f; text-decoration-color: #7f7f7f\">4711</span></a>\n",
       "</pre>\n"
      ],
      "text/plain": [
       "\u001b[2;36m[02/01/25 02:05:58]\u001b[0m\u001b[2;36m \u001b[0m\u001b[1;38;2;0;105;255mINFO    \u001b[0m Creating endpoint with name sagemaker-xgboost-\u001b[1;36m2025\u001b[0m-02-01-02-05-57-133  \u001b]8;id=892551;file:///home/ec2-user/anaconda3/envs/python3/lib/python3.10/site-packages/sagemaker/session.py\u001b\\\u001b[2msession.py\u001b[0m\u001b]8;;\u001b\\\u001b[2m:\u001b[0m\u001b]8;id=293221;file:///home/ec2-user/anaconda3/envs/python3/lib/python3.10/site-packages/sagemaker/session.py#4711\u001b\\\u001b[2m4711\u001b[0m\u001b]8;;\u001b\\\n"
      ]
     },
     "metadata": {},
     "output_type": "display_data"
    },
    {
     "name": "stdout",
     "output_type": "stream",
     "text": [
      "------!Model deployed successfully!\n"
     ]
    }
   ],
   "source": [
    "# Deploy the model\n",
    "predictor = xgb_estimator.deploy(\n",
    "    initial_instance_count=1,\n",
    "    instance_type=\"ml.m5.large\"\n",
    ")\n",
    "\n",
    "print(\"Model deployed successfully!\")"
   ]
  },
  {
   "cell_type": "code",
   "execution_count": 16,
   "id": "37548d42-9a3b-4451-a5a7-b8c6d70d9086",
   "metadata": {},
   "outputs": [
    {
     "name": "stdout",
     "output_type": "stream",
     "text": [
      "Columns in X_test: Index(['duration', 'weight', 'age', 'first_br_value', 'ecg_mean', 'ecg_max',\n",
      "       'ecg_min', 'total_bad_duration', 'first_hr_value'],\n",
      "      dtype='object')\n",
      "Serialized Input Data: 0.25600338,0.5151515,0.11764706,14.54,150.19289,299.34,0.67,26.0,65.76\n"
     ]
    },
    {
     "data": {
      "text/html": [
       "<pre style=\"white-space:pre;overflow-x:auto;line-height:normal;font-family:Menlo,'DejaVu Sans Mono',consolas,'Courier New',monospace\"><span style=\"color: #ff0000; text-decoration-color: #ff0000\">╭─────────────────────────────── </span><span style=\"color: #ff0000; text-decoration-color: #ff0000; font-weight: bold\">Traceback </span><span style=\"color: #ff7f7f; text-decoration-color: #ff7f7f; font-weight: bold\">(most recent call last)</span><span style=\"color: #ff0000; text-decoration-color: #ff0000\"> ────────────────────────────────╮</span>\n",
       "<span style=\"color: #ff0000; text-decoration-color: #ff0000\">│</span> in <span style=\"color: #00ff00; text-decoration-color: #00ff00\">&lt;module&gt;</span>:<span style=\"color: #0000ff; text-decoration-color: #0000ff\">31</span>                                                                                   <span style=\"color: #ff0000; text-decoration-color: #ff0000\">│</span>\n",
       "<span style=\"color: #ff0000; text-decoration-color: #ff0000\">│</span>                                                                                                  <span style=\"color: #ff0000; text-decoration-color: #ff0000\">│</span>\n",
       "<span style=\"color: #ff0000; text-decoration-color: #ff0000\">│</span>   <span style=\"color: #7f7f7f; text-decoration-color: #7f7f7f\">28 </span><span style=\"color: #00ffff; text-decoration-color: #00ffff\">print</span>(<span style=\"color: #808000; text-decoration-color: #808000\">f\"Serialized Input Data: {</span>csv_data<span style=\"color: #808000; text-decoration-color: #808000\">}\"</span>)                                                 <span style=\"color: #ff0000; text-decoration-color: #ff0000\">│</span>\n",
       "<span style=\"color: #ff0000; text-decoration-color: #ff0000\">│</span>   <span style=\"color: #7f7f7f; text-decoration-color: #7f7f7f\">29 </span>                                                                                            <span style=\"color: #ff0000; text-decoration-color: #ff0000\">│</span>\n",
       "<span style=\"color: #ff0000; text-decoration-color: #ff0000\">│</span>   <span style=\"color: #7f7f7f; text-decoration-color: #7f7f7f\">30 # Step 6: Make the prediction</span>                                                               <span style=\"color: #ff0000; text-decoration-color: #ff0000\">│</span>\n",
       "<span style=\"color: #ff0000; text-decoration-color: #ff0000\">│</span> <span style=\"color: #800000; text-decoration-color: #800000\">❱ </span>31 response = predictor.predict(csv_data)                                                      <span style=\"color: #ff0000; text-decoration-color: #ff0000\">│</span>\n",
       "<span style=\"color: #ff0000; text-decoration-color: #ff0000\">│</span>   <span style=\"color: #7f7f7f; text-decoration-color: #7f7f7f\">32 </span>prediction = response.decode(<span style=\"color: #808000; text-decoration-color: #808000\">'utf-8'</span>)  <span style=\"color: #7f7f7f; text-decoration-color: #7f7f7f\"># Decode the response from bytes to string</span>           <span style=\"color: #ff0000; text-decoration-color: #ff0000\">│</span>\n",
       "<span style=\"color: #ff0000; text-decoration-color: #ff0000\">│</span>   <span style=\"color: #7f7f7f; text-decoration-color: #7f7f7f\">33 </span><span style=\"color: #00ffff; text-decoration-color: #00ffff\">print</span>(<span style=\"color: #808000; text-decoration-color: #808000\">f\"Predicted Heart Rate: {</span>prediction<span style=\"color: #808000; text-decoration-color: #808000\">}\"</span>)                                                <span style=\"color: #ff0000; text-decoration-color: #ff0000\">│</span>\n",
       "<span style=\"color: #ff0000; text-decoration-color: #ff0000\">│</span>   <span style=\"color: #7f7f7f; text-decoration-color: #7f7f7f\">34 </span>                                                                                            <span style=\"color: #ff0000; text-decoration-color: #ff0000\">│</span>\n",
       "<span style=\"color: #ff0000; text-decoration-color: #ff0000\">│</span>                                                                                                  <span style=\"color: #ff0000; text-decoration-color: #ff0000\">│</span>\n",
       "<span style=\"color: #ff0000; text-decoration-color: #ff0000\">│</span> <span style=\"color: #bfbf7f; text-decoration-color: #bfbf7f\">/home/ec2-user/anaconda3/envs/python3/lib/python3.10/site-packages/sagemaker/</span><span style=\"color: #808000; text-decoration-color: #808000; font-weight: bold\">base_predictor.py</span>:<span style=\"color: #0000ff; text-decoration-color: #0000ff\">2</span> <span style=\"color: #ff0000; text-decoration-color: #ff0000\">│</span>\n",
       "<span style=\"color: #ff0000; text-decoration-color: #ff0000\">│</span> <span style=\"color: #0000ff; text-decoration-color: #0000ff\">12</span> in <span style=\"color: #00ff00; text-decoration-color: #00ff00\">predict</span>                                                                                    <span style=\"color: #ff0000; text-decoration-color: #ff0000\">│</span>\n",
       "<span style=\"color: #ff0000; text-decoration-color: #ff0000\">│</span>                                                                                                  <span style=\"color: #ff0000; text-decoration-color: #ff0000\">│</span>\n",
       "<span style=\"color: #ff0000; text-decoration-color: #ff0000\">│</span>   <span style=\"color: #7f7f7f; text-decoration-color: #7f7f7f\">209 </span><span style=\"color: #7f7f7f; text-decoration-color: #7f7f7f\">│   │   </span><span style=\"color: #0000ff; text-decoration-color: #0000ff\">if</span> inference_component_name:                                                       <span style=\"color: #ff0000; text-decoration-color: #ff0000\">│</span>\n",
       "<span style=\"color: #ff0000; text-decoration-color: #ff0000\">│</span>   <span style=\"color: #7f7f7f; text-decoration-color: #7f7f7f\">210 </span><span style=\"color: #7f7f7f; text-decoration-color: #7f7f7f\">│   │   │   </span>request_args[<span style=\"color: #808000; text-decoration-color: #808000\">\"InferenceComponentName\"</span>] = inference_component_name              <span style=\"color: #ff0000; text-decoration-color: #ff0000\">│</span>\n",
       "<span style=\"color: #ff0000; text-decoration-color: #ff0000\">│</span>   <span style=\"color: #7f7f7f; text-decoration-color: #7f7f7f\">211 </span><span style=\"color: #7f7f7f; text-decoration-color: #7f7f7f\">│   │   </span>                                                                                   <span style=\"color: #ff0000; text-decoration-color: #ff0000\">│</span>\n",
       "<span style=\"color: #ff0000; text-decoration-color: #ff0000\">│</span> <span style=\"color: #800000; text-decoration-color: #800000\">❱ </span>212 <span style=\"color: #7f7f7f; text-decoration-color: #7f7f7f\">│   │   </span>response = <span style=\"color: #00ffff; text-decoration-color: #00ffff\">self</span>.sagemaker_session.sagemaker_runtime_client.invoke_endpoint(**req   <span style=\"color: #ff0000; text-decoration-color: #ff0000\">│</span>\n",
       "<span style=\"color: #ff0000; text-decoration-color: #ff0000\">│</span>   <span style=\"color: #7f7f7f; text-decoration-color: #7f7f7f\">213 </span><span style=\"color: #7f7f7f; text-decoration-color: #7f7f7f\">│   │   </span><span style=\"color: #0000ff; text-decoration-color: #0000ff\">return</span> <span style=\"color: #00ffff; text-decoration-color: #00ffff\">self</span>._handle_response(response)                                             <span style=\"color: #ff0000; text-decoration-color: #ff0000\">│</span>\n",
       "<span style=\"color: #ff0000; text-decoration-color: #ff0000\">│</span>   <span style=\"color: #7f7f7f; text-decoration-color: #7f7f7f\">214 </span><span style=\"color: #7f7f7f; text-decoration-color: #7f7f7f\">│   </span>                                                                                       <span style=\"color: #ff0000; text-decoration-color: #ff0000\">│</span>\n",
       "<span style=\"color: #ff0000; text-decoration-color: #ff0000\">│</span>   <span style=\"color: #7f7f7f; text-decoration-color: #7f7f7f\">215 </span><span style=\"color: #7f7f7f; text-decoration-color: #7f7f7f\">│   </span><span style=\"color: #0000ff; text-decoration-color: #0000ff\">def</span><span style=\"color: #808080; text-decoration-color: #808080\"> </span><span style=\"color: #00ff00; text-decoration-color: #00ff00\">_handle_response</span>(<span style=\"color: #00ffff; text-decoration-color: #00ffff\">self</span>, response):                                                  <span style=\"color: #ff0000; text-decoration-color: #ff0000\">│</span>\n",
       "<span style=\"color: #ff0000; text-decoration-color: #ff0000\">│</span>                                                                                                  <span style=\"color: #ff0000; text-decoration-color: #ff0000\">│</span>\n",
       "<span style=\"color: #ff0000; text-decoration-color: #ff0000\">│</span> <span style=\"color: #bfbf7f; text-decoration-color: #bfbf7f\">/home/ec2-user/anaconda3/envs/python3/lib/python3.10/site-packages/botocore/</span><span style=\"color: #808000; text-decoration-color: #808000; font-weight: bold\">client.py</span>:<span style=\"color: #0000ff; text-decoration-color: #0000ff\">569</span> in     <span style=\"color: #ff0000; text-decoration-color: #ff0000\">│</span>\n",
       "<span style=\"color: #ff0000; text-decoration-color: #ff0000\">│</span> <span style=\"color: #00ff00; text-decoration-color: #00ff00\">_api_call</span>                                                                                        <span style=\"color: #ff0000; text-decoration-color: #ff0000\">│</span>\n",
       "<span style=\"color: #ff0000; text-decoration-color: #ff0000\">│</span>                                                                                                  <span style=\"color: #ff0000; text-decoration-color: #ff0000\">│</span>\n",
       "<span style=\"color: #ff0000; text-decoration-color: #ff0000\">│</span>   <span style=\"color: #7f7f7f; text-decoration-color: #7f7f7f\"> 566 </span><span style=\"color: #7f7f7f; text-decoration-color: #7f7f7f\">│   │   │   │   │   </span><span style=\"color: #808000; text-decoration-color: #808000\">f\"{</span>py_operation_name<span style=\"color: #808000; text-decoration-color: #808000\">}() only accepts keyword arguments.\"</span>              <span style=\"color: #ff0000; text-decoration-color: #ff0000\">│</span>\n",
       "<span style=\"color: #ff0000; text-decoration-color: #ff0000\">│</span>   <span style=\"color: #7f7f7f; text-decoration-color: #7f7f7f\"> 567 </span><span style=\"color: #7f7f7f; text-decoration-color: #7f7f7f\">│   │   │   │   </span>)                                                                         <span style=\"color: #ff0000; text-decoration-color: #ff0000\">│</span>\n",
       "<span style=\"color: #ff0000; text-decoration-color: #ff0000\">│</span>   <span style=\"color: #7f7f7f; text-decoration-color: #7f7f7f\"> 568 </span><span style=\"color: #7f7f7f; text-decoration-color: #7f7f7f\">│   │   │   </span><span style=\"color: #7f7f7f; text-decoration-color: #7f7f7f\"># The \"self\" in this scope is referring to the BaseClient.</span>                    <span style=\"color: #ff0000; text-decoration-color: #ff0000\">│</span>\n",
       "<span style=\"color: #ff0000; text-decoration-color: #ff0000\">│</span> <span style=\"color: #800000; text-decoration-color: #800000\">❱ </span> 569 <span style=\"color: #7f7f7f; text-decoration-color: #7f7f7f\">│   │   │   </span><span style=\"color: #0000ff; text-decoration-color: #0000ff\">return</span> <span style=\"color: #00ffff; text-decoration-color: #00ffff\">self</span>._make_api_call(operation_name, kwargs)                            <span style=\"color: #ff0000; text-decoration-color: #ff0000\">│</span>\n",
       "<span style=\"color: #ff0000; text-decoration-color: #ff0000\">│</span>   <span style=\"color: #7f7f7f; text-decoration-color: #7f7f7f\"> 570 </span><span style=\"color: #7f7f7f; text-decoration-color: #7f7f7f\">│   │   </span>                                                                                  <span style=\"color: #ff0000; text-decoration-color: #ff0000\">│</span>\n",
       "<span style=\"color: #ff0000; text-decoration-color: #ff0000\">│</span>   <span style=\"color: #7f7f7f; text-decoration-color: #7f7f7f\"> 571 </span><span style=\"color: #7f7f7f; text-decoration-color: #7f7f7f\">│   │   </span>_api_call.<span style=\"color: #ff0000; text-decoration-color: #ff0000\">__name__</span> = <span style=\"color: #00ffff; text-decoration-color: #00ffff\">str</span>(py_operation_name)                                       <span style=\"color: #ff0000; text-decoration-color: #ff0000\">│</span>\n",
       "<span style=\"color: #ff0000; text-decoration-color: #ff0000\">│</span>   <span style=\"color: #7f7f7f; text-decoration-color: #7f7f7f\"> 572 </span>                                                                                          <span style=\"color: #ff0000; text-decoration-color: #ff0000\">│</span>\n",
       "<span style=\"color: #ff0000; text-decoration-color: #ff0000\">│</span>                                                                                                  <span style=\"color: #ff0000; text-decoration-color: #ff0000\">│</span>\n",
       "<span style=\"color: #ff0000; text-decoration-color: #ff0000\">│</span> <span style=\"color: #bfbf7f; text-decoration-color: #bfbf7f\">/home/ec2-user/anaconda3/envs/python3/lib/python3.10/site-packages/botocore/</span><span style=\"color: #808000; text-decoration-color: #808000; font-weight: bold\">client.py</span>:<span style=\"color: #0000ff; text-decoration-color: #0000ff\">1023</span> in    <span style=\"color: #ff0000; text-decoration-color: #ff0000\">│</span>\n",
       "<span style=\"color: #ff0000; text-decoration-color: #ff0000\">│</span> <span style=\"color: #00ff00; text-decoration-color: #00ff00\">_make_api_call</span>                                                                                   <span style=\"color: #ff0000; text-decoration-color: #ff0000\">│</span>\n",
       "<span style=\"color: #ff0000; text-decoration-color: #ff0000\">│</span>                                                                                                  <span style=\"color: #ff0000; text-decoration-color: #ff0000\">│</span>\n",
       "<span style=\"color: #ff0000; text-decoration-color: #ff0000\">│</span>   <span style=\"color: #7f7f7f; text-decoration-color: #7f7f7f\">1020 </span><span style=\"color: #7f7f7f; text-decoration-color: #7f7f7f\">│   │   │   │   </span><span style=\"color: #808000; text-decoration-color: #808000\">\"Code\"</span>                                                                    <span style=\"color: #ff0000; text-decoration-color: #ff0000\">│</span>\n",
       "<span style=\"color: #ff0000; text-decoration-color: #ff0000\">│</span>   <span style=\"color: #7f7f7f; text-decoration-color: #7f7f7f\">1021 </span><span style=\"color: #7f7f7f; text-decoration-color: #7f7f7f\">│   │   │   </span>)                                                                             <span style=\"color: #ff0000; text-decoration-color: #ff0000\">│</span>\n",
       "<span style=\"color: #ff0000; text-decoration-color: #ff0000\">│</span>   <span style=\"color: #7f7f7f; text-decoration-color: #7f7f7f\">1022 </span><span style=\"color: #7f7f7f; text-decoration-color: #7f7f7f\">│   │   │   </span>error_class = <span style=\"color: #00ffff; text-decoration-color: #00ffff\">self</span>.exceptions.from_code(error_code)                           <span style=\"color: #ff0000; text-decoration-color: #ff0000\">│</span>\n",
       "<span style=\"color: #ff0000; text-decoration-color: #ff0000\">│</span> <span style=\"color: #800000; text-decoration-color: #800000\">❱ </span>1023 <span style=\"color: #7f7f7f; text-decoration-color: #7f7f7f\">│   │   │   </span><span style=\"color: #0000ff; text-decoration-color: #0000ff\">raise</span> error_class(parsed_response, operation_name)                            <span style=\"color: #ff0000; text-decoration-color: #ff0000\">│</span>\n",
       "<span style=\"color: #ff0000; text-decoration-color: #ff0000\">│</span>   <span style=\"color: #7f7f7f; text-decoration-color: #7f7f7f\">1024 </span><span style=\"color: #7f7f7f; text-decoration-color: #7f7f7f\">│   │   </span><span style=\"color: #0000ff; text-decoration-color: #0000ff\">else</span>:                                                                             <span style=\"color: #ff0000; text-decoration-color: #ff0000\">│</span>\n",
       "<span style=\"color: #ff0000; text-decoration-color: #ff0000\">│</span>   <span style=\"color: #7f7f7f; text-decoration-color: #7f7f7f\">1025 </span><span style=\"color: #7f7f7f; text-decoration-color: #7f7f7f\">│   │   │   </span><span style=\"color: #0000ff; text-decoration-color: #0000ff\">return</span> parsed_response                                                        <span style=\"color: #ff0000; text-decoration-color: #ff0000\">│</span>\n",
       "<span style=\"color: #ff0000; text-decoration-color: #ff0000\">│</span>   <span style=\"color: #7f7f7f; text-decoration-color: #7f7f7f\">1026 </span>                                                                                          <span style=\"color: #ff0000; text-decoration-color: #ff0000\">│</span>\n",
       "<span style=\"color: #ff0000; text-decoration-color: #ff0000\">╰──────────────────────────────────────────────────────────────────────────────────────────────────╯</span>\n",
       "<span style=\"color: #ff0000; text-decoration-color: #ff0000; font-weight: bold\">ModelError: </span>An error occurred <span style=\"font-weight: bold\">(</span>ModelError<span style=\"font-weight: bold\">)</span> when calling the InvokeEndpoint operation: Received client error <span style=\"font-weight: bold\">(</span><span style=\"color: #008080; text-decoration-color: #008080; font-weight: bold\">415</span><span style=\"font-weight: bold\">)</span> \n",
       "from primary with message <span style=\"color: #008700; text-decoration-color: #008700\">\"application/octet-stream is not an accepted ContentType: csv, libsvm, parquet, </span>\n",
       "<span style=\"color: #008700; text-decoration-color: #008700\">recordio-protobuf, text/csv, text/libsvm, text/x-libsvm, application/x-parquet, application/x-recordio-protobuf.\"</span>. \n",
       "See \n",
       "<span style=\"color: #0069ff; text-decoration-color: #0069ff; text-decoration: underline\">https://us-east-1.console.aws.amazon.com/cloudwatch/home?</span><span style=\"color: #0069ff; text-decoration-color: #0069ff; text-decoration: underline\">region</span><span style=\"color: #0069ff; text-decoration-color: #0069ff; text-decoration: underline\">=</span><span style=\"color: #0069ff; text-decoration-color: #0069ff; text-decoration: underline\">us</span><span style=\"color: #0069ff; text-decoration-color: #0069ff; text-decoration: underline\">-east-1#logEventViewer:</span><span style=\"color: #0069ff; text-decoration-color: #0069ff; text-decoration: underline\">group</span><span style=\"color: #0069ff; text-decoration-color: #0069ff; text-decoration: underline\">=/aws/sagemaker/Endpo</span>\n",
       "<span style=\"color: #0069ff; text-decoration-color: #0069ff; text-decoration: underline\">ints/sagemaker-xgboost-2025-02-01-02-05-57-133</span> in account <span style=\"color: #008080; text-decoration-color: #008080; font-weight: bold\">867344433481</span> for more information.\n",
       "</pre>\n"
      ],
      "text/plain": [
       "\u001b[38;2;255;0;0m╭─\u001b[0m\u001b[38;2;255;0;0m──────────────────────────────\u001b[0m\u001b[38;2;255;0;0m \u001b[0m\u001b[1;38;2;255;0;0mTraceback \u001b[0m\u001b[1;2;38;2;255;0;0m(most recent call last)\u001b[0m\u001b[38;2;255;0;0m \u001b[0m\u001b[38;2;255;0;0m───────────────────────────────\u001b[0m\u001b[38;2;255;0;0m─╮\u001b[0m\n",
       "\u001b[38;2;255;0;0m│\u001b[0m in \u001b[92m<module>\u001b[0m:\u001b[94m31\u001b[0m                                                                                   \u001b[38;2;255;0;0m│\u001b[0m\n",
       "\u001b[38;2;255;0;0m│\u001b[0m                                                                                                  \u001b[38;2;255;0;0m│\u001b[0m\n",
       "\u001b[38;2;255;0;0m│\u001b[0m   \u001b[2m28 \u001b[0m\u001b[96mprint\u001b[0m(\u001b[33mf\u001b[0m\u001b[33m\"\u001b[0m\u001b[33mSerialized Input Data: \u001b[0m\u001b[33m{\u001b[0mcsv_data\u001b[33m}\u001b[0m\u001b[33m\"\u001b[0m)                                                 \u001b[38;2;255;0;0m│\u001b[0m\n",
       "\u001b[38;2;255;0;0m│\u001b[0m   \u001b[2m29 \u001b[0m                                                                                            \u001b[38;2;255;0;0m│\u001b[0m\n",
       "\u001b[38;2;255;0;0m│\u001b[0m   \u001b[2m30 \u001b[0m\u001b[2m# Step 6: Make the prediction\u001b[0m                                                               \u001b[38;2;255;0;0m│\u001b[0m\n",
       "\u001b[38;2;255;0;0m│\u001b[0m \u001b[31m❱ \u001b[0m31 response = predictor.predict(csv_data)                                                      \u001b[38;2;255;0;0m│\u001b[0m\n",
       "\u001b[38;2;255;0;0m│\u001b[0m   \u001b[2m32 \u001b[0mprediction = response.decode(\u001b[33m'\u001b[0m\u001b[33mutf-8\u001b[0m\u001b[33m'\u001b[0m)  \u001b[2m# Decode the response from bytes to string\u001b[0m           \u001b[38;2;255;0;0m│\u001b[0m\n",
       "\u001b[38;2;255;0;0m│\u001b[0m   \u001b[2m33 \u001b[0m\u001b[96mprint\u001b[0m(\u001b[33mf\u001b[0m\u001b[33m\"\u001b[0m\u001b[33mPredicted Heart Rate: \u001b[0m\u001b[33m{\u001b[0mprediction\u001b[33m}\u001b[0m\u001b[33m\"\u001b[0m)                                                \u001b[38;2;255;0;0m│\u001b[0m\n",
       "\u001b[38;2;255;0;0m│\u001b[0m   \u001b[2m34 \u001b[0m                                                                                            \u001b[38;2;255;0;0m│\u001b[0m\n",
       "\u001b[38;2;255;0;0m│\u001b[0m                                                                                                  \u001b[38;2;255;0;0m│\u001b[0m\n",
       "\u001b[38;2;255;0;0m│\u001b[0m \u001b[2;33m/home/ec2-user/anaconda3/envs/python3/lib/python3.10/site-packages/sagemaker/\u001b[0m\u001b[1;33mbase_predictor.py\u001b[0m:\u001b[94m2\u001b[0m \u001b[38;2;255;0;0m│\u001b[0m\n",
       "\u001b[38;2;255;0;0m│\u001b[0m \u001b[94m12\u001b[0m in \u001b[92mpredict\u001b[0m                                                                                    \u001b[38;2;255;0;0m│\u001b[0m\n",
       "\u001b[38;2;255;0;0m│\u001b[0m                                                                                                  \u001b[38;2;255;0;0m│\u001b[0m\n",
       "\u001b[38;2;255;0;0m│\u001b[0m   \u001b[2m209 \u001b[0m\u001b[2m│   │   \u001b[0m\u001b[94mif\u001b[0m inference_component_name:                                                       \u001b[38;2;255;0;0m│\u001b[0m\n",
       "\u001b[38;2;255;0;0m│\u001b[0m   \u001b[2m210 \u001b[0m\u001b[2m│   │   │   \u001b[0mrequest_args[\u001b[33m\"\u001b[0m\u001b[33mInferenceComponentName\u001b[0m\u001b[33m\"\u001b[0m] = inference_component_name              \u001b[38;2;255;0;0m│\u001b[0m\n",
       "\u001b[38;2;255;0;0m│\u001b[0m   \u001b[2m211 \u001b[0m\u001b[2m│   │   \u001b[0m                                                                                   \u001b[38;2;255;0;0m│\u001b[0m\n",
       "\u001b[38;2;255;0;0m│\u001b[0m \u001b[31m❱ \u001b[0m212 \u001b[2m│   │   \u001b[0mresponse = \u001b[96mself\u001b[0m.sagemaker_session.sagemaker_runtime_client.invoke_endpoint(**req   \u001b[38;2;255;0;0m│\u001b[0m\n",
       "\u001b[38;2;255;0;0m│\u001b[0m   \u001b[2m213 \u001b[0m\u001b[2m│   │   \u001b[0m\u001b[94mreturn\u001b[0m \u001b[96mself\u001b[0m._handle_response(response)                                             \u001b[38;2;255;0;0m│\u001b[0m\n",
       "\u001b[38;2;255;0;0m│\u001b[0m   \u001b[2m214 \u001b[0m\u001b[2m│   \u001b[0m                                                                                       \u001b[38;2;255;0;0m│\u001b[0m\n",
       "\u001b[38;2;255;0;0m│\u001b[0m   \u001b[2m215 \u001b[0m\u001b[2m│   \u001b[0m\u001b[94mdef\u001b[0m\u001b[90m \u001b[0m\u001b[92m_handle_response\u001b[0m(\u001b[96mself\u001b[0m, response):                                                  \u001b[38;2;255;0;0m│\u001b[0m\n",
       "\u001b[38;2;255;0;0m│\u001b[0m                                                                                                  \u001b[38;2;255;0;0m│\u001b[0m\n",
       "\u001b[38;2;255;0;0m│\u001b[0m \u001b[2;33m/home/ec2-user/anaconda3/envs/python3/lib/python3.10/site-packages/botocore/\u001b[0m\u001b[1;33mclient.py\u001b[0m:\u001b[94m569\u001b[0m in     \u001b[38;2;255;0;0m│\u001b[0m\n",
       "\u001b[38;2;255;0;0m│\u001b[0m \u001b[92m_api_call\u001b[0m                                                                                        \u001b[38;2;255;0;0m│\u001b[0m\n",
       "\u001b[38;2;255;0;0m│\u001b[0m                                                                                                  \u001b[38;2;255;0;0m│\u001b[0m\n",
       "\u001b[38;2;255;0;0m│\u001b[0m   \u001b[2m 566 \u001b[0m\u001b[2m│   │   │   │   │   \u001b[0m\u001b[33mf\u001b[0m\u001b[33m\"\u001b[0m\u001b[33m{\u001b[0mpy_operation_name\u001b[33m}\u001b[0m\u001b[33m() only accepts keyword arguments.\u001b[0m\u001b[33m\"\u001b[0m              \u001b[38;2;255;0;0m│\u001b[0m\n",
       "\u001b[38;2;255;0;0m│\u001b[0m   \u001b[2m 567 \u001b[0m\u001b[2m│   │   │   │   \u001b[0m)                                                                         \u001b[38;2;255;0;0m│\u001b[0m\n",
       "\u001b[38;2;255;0;0m│\u001b[0m   \u001b[2m 568 \u001b[0m\u001b[2m│   │   │   \u001b[0m\u001b[2m# The \"self\" in this scope is referring to the BaseClient.\u001b[0m                    \u001b[38;2;255;0;0m│\u001b[0m\n",
       "\u001b[38;2;255;0;0m│\u001b[0m \u001b[31m❱ \u001b[0m 569 \u001b[2m│   │   │   \u001b[0m\u001b[94mreturn\u001b[0m \u001b[96mself\u001b[0m._make_api_call(operation_name, kwargs)                            \u001b[38;2;255;0;0m│\u001b[0m\n",
       "\u001b[38;2;255;0;0m│\u001b[0m   \u001b[2m 570 \u001b[0m\u001b[2m│   │   \u001b[0m                                                                                  \u001b[38;2;255;0;0m│\u001b[0m\n",
       "\u001b[38;2;255;0;0m│\u001b[0m   \u001b[2m 571 \u001b[0m\u001b[2m│   │   \u001b[0m_api_call.\u001b[91m__name__\u001b[0m = \u001b[96mstr\u001b[0m(py_operation_name)                                       \u001b[38;2;255;0;0m│\u001b[0m\n",
       "\u001b[38;2;255;0;0m│\u001b[0m   \u001b[2m 572 \u001b[0m                                                                                          \u001b[38;2;255;0;0m│\u001b[0m\n",
       "\u001b[38;2;255;0;0m│\u001b[0m                                                                                                  \u001b[38;2;255;0;0m│\u001b[0m\n",
       "\u001b[38;2;255;0;0m│\u001b[0m \u001b[2;33m/home/ec2-user/anaconda3/envs/python3/lib/python3.10/site-packages/botocore/\u001b[0m\u001b[1;33mclient.py\u001b[0m:\u001b[94m1023\u001b[0m in    \u001b[38;2;255;0;0m│\u001b[0m\n",
       "\u001b[38;2;255;0;0m│\u001b[0m \u001b[92m_make_api_call\u001b[0m                                                                                   \u001b[38;2;255;0;0m│\u001b[0m\n",
       "\u001b[38;2;255;0;0m│\u001b[0m                                                                                                  \u001b[38;2;255;0;0m│\u001b[0m\n",
       "\u001b[38;2;255;0;0m│\u001b[0m   \u001b[2m1020 \u001b[0m\u001b[2m│   │   │   │   \u001b[0m\u001b[33m\"\u001b[0m\u001b[33mCode\u001b[0m\u001b[33m\"\u001b[0m                                                                    \u001b[38;2;255;0;0m│\u001b[0m\n",
       "\u001b[38;2;255;0;0m│\u001b[0m   \u001b[2m1021 \u001b[0m\u001b[2m│   │   │   \u001b[0m)                                                                             \u001b[38;2;255;0;0m│\u001b[0m\n",
       "\u001b[38;2;255;0;0m│\u001b[0m   \u001b[2m1022 \u001b[0m\u001b[2m│   │   │   \u001b[0merror_class = \u001b[96mself\u001b[0m.exceptions.from_code(error_code)                           \u001b[38;2;255;0;0m│\u001b[0m\n",
       "\u001b[38;2;255;0;0m│\u001b[0m \u001b[31m❱ \u001b[0m1023 \u001b[2m│   │   │   \u001b[0m\u001b[94mraise\u001b[0m error_class(parsed_response, operation_name)                            \u001b[38;2;255;0;0m│\u001b[0m\n",
       "\u001b[38;2;255;0;0m│\u001b[0m   \u001b[2m1024 \u001b[0m\u001b[2m│   │   \u001b[0m\u001b[94melse\u001b[0m:                                                                             \u001b[38;2;255;0;0m│\u001b[0m\n",
       "\u001b[38;2;255;0;0m│\u001b[0m   \u001b[2m1025 \u001b[0m\u001b[2m│   │   │   \u001b[0m\u001b[94mreturn\u001b[0m parsed_response                                                        \u001b[38;2;255;0;0m│\u001b[0m\n",
       "\u001b[38;2;255;0;0m│\u001b[0m   \u001b[2m1026 \u001b[0m                                                                                          \u001b[38;2;255;0;0m│\u001b[0m\n",
       "\u001b[38;2;255;0;0m╰──────────────────────────────────────────────────────────────────────────────────────────────────╯\u001b[0m\n",
       "\u001b[1;91mModelError: \u001b[0mAn error occurred \u001b[1m(\u001b[0mModelError\u001b[1m)\u001b[0m when calling the InvokeEndpoint operation: Received client error \u001b[1m(\u001b[0m\u001b[1;36m415\u001b[0m\u001b[1m)\u001b[0m \n",
       "from primary with message \u001b[38;2;0;135;0m\"application/octet-stream is not an accepted ContentType: csv, libsvm, parquet, \u001b[0m\n",
       "\u001b[38;2;0;135;0mrecordio-protobuf, text/csv, text/libsvm, text/x-libsvm, application/x-parquet, application/x-recordio-protobuf.\"\u001b[0m. \n",
       "See \n",
       "\u001b[4;38;2;0;105;255mhttps://us-east-1.console.aws.amazon.com/cloudwatch/home?\u001b[0m\u001b[4;38;2;0;105;255mregion\u001b[0m\u001b[4;38;2;0;105;255m=\u001b[0m\u001b[4;38;2;0;105;255mus\u001b[0m\u001b[4;38;2;0;105;255m-east-1#logEventViewer:\u001b[0m\u001b[4;38;2;0;105;255mgroup\u001b[0m\u001b[4;38;2;0;105;255m=/aws/sagemaker/Endpo\u001b[0m\n",
       "\u001b[4;38;2;0;105;255mints/sagemaker-xgboost-2025-02-01-02-05-57-133\u001b[0m in account \u001b[1;36m867344433481\u001b[0m for more information.\n"
      ]
     },
     "metadata": {},
     "output_type": "display_data"
    }
   ],
   "source": [
    "# import numpy as np\n",
    "# import pandas as pd\n",
    "\n",
    "# # Step 1: Inspect the columns in X_test\n",
    "# print(\"Columns in X_test:\", X_test.columns)\n",
    "\n",
    "# # Step 2: Drop irrelevant columns\n",
    "# irrelevant_columns = ['_id', 'ecg_path']\n",
    "# X_test = X_test.drop(columns=[col for col in irrelevant_columns if col in X_test.columns])\n",
    "\n",
    "# # Step 3: Handle existing columns\n",
    "# if 'first_br_value' in X_test.columns:\n",
    "#     X_test['first_br_value'] = pd.to_numeric(X_test['first_br_value'], errors='coerce')\n",
    "#     X_test['first_br_value'] = X_test['first_br_value'].fillna(X_test['first_br_value'].median())\n",
    "\n",
    "# if 'first_hr_value' in X_test.columns:\n",
    "#     X_test['first_hr_value'] = pd.to_numeric(X_test['first_hr_value'], errors='coerce')\n",
    "#     X_test['first_hr_value'] = X_test['first_hr_value'].fillna(X_test['first_hr_value'].median())\n",
    "\n",
    "# # Step 4: Ensure all data is numeric\n",
    "# X_test = X_test.apply(pd.to_numeric, errors='coerce')\n",
    "# X_test = X_test.fillna(X_test.median())\n",
    "\n",
    "# # Step 5: Serialize the input data\n",
    "# input_data = X_test.iloc[0].values.astype('float32')  # Extract the first row as a NumPy array\n",
    "# csv_data = ','.join(map(str, input_data))  # Convert to a CSV string\n",
    "\n",
    "# print(f\"Serialized Input Data: {csv_data}\")\n",
    "\n",
    "# # Step 6: Make the prediction\n",
    "# response = predictor.predict(csv_data)\n",
    "# prediction = response.decode('utf-8')  # Decode the response from bytes to string\n",
    "# print(f\"Predicted Heart Rate: {prediction}\")"
   ]
  },
  {
   "cell_type": "code",
   "execution_count": null,
   "id": "d505988d-4458-4857-a058-fef04de28632",
   "metadata": {},
   "outputs": [],
   "source": []
  }
 ],
 "metadata": {
  "kernelspec": {
   "display_name": "conda_python3",
   "language": "python",
   "name": "conda_python3"
  },
  "language_info": {
   "codemirror_mode": {
    "name": "ipython",
    "version": 3
   },
   "file_extension": ".py",
   "mimetype": "text/x-python",
   "name": "python",
   "nbconvert_exporter": "python",
   "pygments_lexer": "ipython3",
   "version": "3.10.16"
  }
 },
 "nbformat": 4,
 "nbformat_minor": 5
}
